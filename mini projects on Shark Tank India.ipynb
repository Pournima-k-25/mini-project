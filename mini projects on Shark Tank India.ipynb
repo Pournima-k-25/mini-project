{
 "cells": [
  {
   "cell_type": "code",
   "execution_count": 1,
   "id": "746f4b55",
   "metadata": {},
   "outputs": [],
   "source": [
    "import pandas as pd"
   ]
  },
  {
   "cell_type": "code",
   "execution_count": 4,
   "id": "f194a59b",
   "metadata": {},
   "outputs": [],
   "source": [
    "ST=pd.read_csv(\"C:\\\\Users\\computer\\Shark_Tank_India.csv\")"
   ]
  },
  {
   "cell_type": "code",
   "execution_count": 5,
   "id": "b4589fa3",
   "metadata": {},
   "outputs": [
    {
     "data": {
      "text/html": [
       "<div>\n",
       "<style scoped>\n",
       "    .dataframe tbody tr th:only-of-type {\n",
       "        vertical-align: middle;\n",
       "    }\n",
       "\n",
       "    .dataframe tbody tr th {\n",
       "        vertical-align: top;\n",
       "    }\n",
       "\n",
       "    .dataframe thead th {\n",
       "        text-align: right;\n",
       "    }\n",
       "</style>\n",
       "<table border=\"1\" class=\"dataframe\">\n",
       "  <thead>\n",
       "    <tr style=\"text-align: right;\">\n",
       "      <th></th>\n",
       "      <th>episode_number</th>\n",
       "      <th>pitch_number</th>\n",
       "      <th>brand_name</th>\n",
       "      <th>idea</th>\n",
       "      <th>deal</th>\n",
       "      <th>pitcher_ask_amount</th>\n",
       "      <th>ask_equity</th>\n",
       "      <th>ask_valuation</th>\n",
       "      <th>deal_amount</th>\n",
       "      <th>deal_equity</th>\n",
       "      <th>...</th>\n",
       "      <th>ashneer_deal</th>\n",
       "      <th>anupam_deal</th>\n",
       "      <th>aman_deal</th>\n",
       "      <th>namita_deal</th>\n",
       "      <th>vineeta_deal</th>\n",
       "      <th>peyush_deal</th>\n",
       "      <th>ghazal_deal</th>\n",
       "      <th>total_sharks_invested</th>\n",
       "      <th>amount_per_shark</th>\n",
       "      <th>equity_per_shark</th>\n",
       "    </tr>\n",
       "  </thead>\n",
       "  <tbody>\n",
       "    <tr>\n",
       "      <th>0</th>\n",
       "      <td>1</td>\n",
       "      <td>1</td>\n",
       "      <td>BluePine Industries</td>\n",
       "      <td>Frozen Momos</td>\n",
       "      <td>1</td>\n",
       "      <td>50.0</td>\n",
       "      <td>5.0</td>\n",
       "      <td>1000.00</td>\n",
       "      <td>75.0</td>\n",
       "      <td>16.00</td>\n",
       "      <td>...</td>\n",
       "      <td>1</td>\n",
       "      <td>0</td>\n",
       "      <td>1</td>\n",
       "      <td>0</td>\n",
       "      <td>1</td>\n",
       "      <td>0</td>\n",
       "      <td>0</td>\n",
       "      <td>3</td>\n",
       "      <td>25.0</td>\n",
       "      <td>5.333333</td>\n",
       "    </tr>\n",
       "    <tr>\n",
       "      <th>1</th>\n",
       "      <td>1</td>\n",
       "      <td>2</td>\n",
       "      <td>Booz scooters</td>\n",
       "      <td>Renting e-bike for mobility in private spaces</td>\n",
       "      <td>1</td>\n",
       "      <td>40.0</td>\n",
       "      <td>15.0</td>\n",
       "      <td>266.67</td>\n",
       "      <td>40.0</td>\n",
       "      <td>50.00</td>\n",
       "      <td>...</td>\n",
       "      <td>1</td>\n",
       "      <td>0</td>\n",
       "      <td>0</td>\n",
       "      <td>0</td>\n",
       "      <td>1</td>\n",
       "      <td>0</td>\n",
       "      <td>0</td>\n",
       "      <td>2</td>\n",
       "      <td>20.0</td>\n",
       "      <td>25.000000</td>\n",
       "    </tr>\n",
       "    <tr>\n",
       "      <th>2</th>\n",
       "      <td>1</td>\n",
       "      <td>3</td>\n",
       "      <td>Heart up my Sleeves</td>\n",
       "      <td>Detachable Sleeves</td>\n",
       "      <td>1</td>\n",
       "      <td>25.0</td>\n",
       "      <td>10.0</td>\n",
       "      <td>250.00</td>\n",
       "      <td>25.0</td>\n",
       "      <td>30.00</td>\n",
       "      <td>...</td>\n",
       "      <td>0</td>\n",
       "      <td>1</td>\n",
       "      <td>0</td>\n",
       "      <td>0</td>\n",
       "      <td>1</td>\n",
       "      <td>0</td>\n",
       "      <td>0</td>\n",
       "      <td>2</td>\n",
       "      <td>12.5</td>\n",
       "      <td>15.000000</td>\n",
       "    </tr>\n",
       "    <tr>\n",
       "      <th>3</th>\n",
       "      <td>2</td>\n",
       "      <td>4</td>\n",
       "      <td>Tagz Foods</td>\n",
       "      <td>Healthy Potato Chips</td>\n",
       "      <td>1</td>\n",
       "      <td>70.0</td>\n",
       "      <td>1.0</td>\n",
       "      <td>7000.00</td>\n",
       "      <td>70.0</td>\n",
       "      <td>2.75</td>\n",
       "      <td>...</td>\n",
       "      <td>1</td>\n",
       "      <td>0</td>\n",
       "      <td>0</td>\n",
       "      <td>0</td>\n",
       "      <td>0</td>\n",
       "      <td>0</td>\n",
       "      <td>0</td>\n",
       "      <td>1</td>\n",
       "      <td>70.0</td>\n",
       "      <td>2.750000</td>\n",
       "    </tr>\n",
       "    <tr>\n",
       "      <th>4</th>\n",
       "      <td>2</td>\n",
       "      <td>5</td>\n",
       "      <td>Head and Heart</td>\n",
       "      <td>Brain Development Course</td>\n",
       "      <td>0</td>\n",
       "      <td>50.0</td>\n",
       "      <td>5.0</td>\n",
       "      <td>1000.00</td>\n",
       "      <td>0.0</td>\n",
       "      <td>0.00</td>\n",
       "      <td>...</td>\n",
       "      <td>0</td>\n",
       "      <td>0</td>\n",
       "      <td>0</td>\n",
       "      <td>0</td>\n",
       "      <td>0</td>\n",
       "      <td>0</td>\n",
       "      <td>0</td>\n",
       "      <td>0</td>\n",
       "      <td>0.0</td>\n",
       "      <td>0.000000</td>\n",
       "    </tr>\n",
       "    <tr>\n",
       "      <th>...</th>\n",
       "      <td>...</td>\n",
       "      <td>...</td>\n",
       "      <td>...</td>\n",
       "      <td>...</td>\n",
       "      <td>...</td>\n",
       "      <td>...</td>\n",
       "      <td>...</td>\n",
       "      <td>...</td>\n",
       "      <td>...</td>\n",
       "      <td>...</td>\n",
       "      <td>...</td>\n",
       "      <td>...</td>\n",
       "      <td>...</td>\n",
       "      <td>...</td>\n",
       "      <td>...</td>\n",
       "      <td>...</td>\n",
       "      <td>...</td>\n",
       "      <td>...</td>\n",
       "      <td>...</td>\n",
       "      <td>...</td>\n",
       "      <td>...</td>\n",
       "    </tr>\n",
       "    <tr>\n",
       "      <th>112</th>\n",
       "      <td>34</td>\n",
       "      <td>113</td>\n",
       "      <td>Green Protein</td>\n",
       "      <td>Plant-Based Protein</td>\n",
       "      <td>0</td>\n",
       "      <td>60.0</td>\n",
       "      <td>2.0</td>\n",
       "      <td>3000.00</td>\n",
       "      <td>0.0</td>\n",
       "      <td>0.00</td>\n",
       "      <td>...</td>\n",
       "      <td>0</td>\n",
       "      <td>0</td>\n",
       "      <td>0</td>\n",
       "      <td>0</td>\n",
       "      <td>0</td>\n",
       "      <td>0</td>\n",
       "      <td>0</td>\n",
       "      <td>0</td>\n",
       "      <td>0.0</td>\n",
       "      <td>0.000000</td>\n",
       "    </tr>\n",
       "    <tr>\n",
       "      <th>113</th>\n",
       "      <td>34</td>\n",
       "      <td>114</td>\n",
       "      <td>On2Cook</td>\n",
       "      <td>Fastest Cooking Device</td>\n",
       "      <td>0</td>\n",
       "      <td>100.0</td>\n",
       "      <td>1.0</td>\n",
       "      <td>10000.00</td>\n",
       "      <td>0.0</td>\n",
       "      <td>0.00</td>\n",
       "      <td>...</td>\n",
       "      <td>0</td>\n",
       "      <td>0</td>\n",
       "      <td>0</td>\n",
       "      <td>0</td>\n",
       "      <td>0</td>\n",
       "      <td>0</td>\n",
       "      <td>0</td>\n",
       "      <td>0</td>\n",
       "      <td>0.0</td>\n",
       "      <td>0.000000</td>\n",
       "    </tr>\n",
       "    <tr>\n",
       "      <th>114</th>\n",
       "      <td>35</td>\n",
       "      <td>115</td>\n",
       "      <td>Jain Shikanji</td>\n",
       "      <td>Lemonade</td>\n",
       "      <td>1</td>\n",
       "      <td>40.0</td>\n",
       "      <td>8.0</td>\n",
       "      <td>500.00</td>\n",
       "      <td>40.0</td>\n",
       "      <td>30.00</td>\n",
       "      <td>...</td>\n",
       "      <td>1</td>\n",
       "      <td>1</td>\n",
       "      <td>1</td>\n",
       "      <td>0</td>\n",
       "      <td>1</td>\n",
       "      <td>0</td>\n",
       "      <td>0</td>\n",
       "      <td>4</td>\n",
       "      <td>10.0</td>\n",
       "      <td>7.500000</td>\n",
       "    </tr>\n",
       "    <tr>\n",
       "      <th>115</th>\n",
       "      <td>35</td>\n",
       "      <td>116</td>\n",
       "      <td>Woloo</td>\n",
       "      <td>Washroom Finder</td>\n",
       "      <td>0</td>\n",
       "      <td>50.0</td>\n",
       "      <td>4.0</td>\n",
       "      <td>1250.00</td>\n",
       "      <td>0.0</td>\n",
       "      <td>0.00</td>\n",
       "      <td>...</td>\n",
       "      <td>0</td>\n",
       "      <td>0</td>\n",
       "      <td>0</td>\n",
       "      <td>0</td>\n",
       "      <td>0</td>\n",
       "      <td>0</td>\n",
       "      <td>0</td>\n",
       "      <td>0</td>\n",
       "      <td>0.0</td>\n",
       "      <td>0.000000</td>\n",
       "    </tr>\n",
       "    <tr>\n",
       "      <th>116</th>\n",
       "      <td>35</td>\n",
       "      <td>117</td>\n",
       "      <td>Elcare India</td>\n",
       "      <td>Carenting for Elders</td>\n",
       "      <td>0</td>\n",
       "      <td>100.0</td>\n",
       "      <td>2.5</td>\n",
       "      <td>4000.00</td>\n",
       "      <td>0.0</td>\n",
       "      <td>0.00</td>\n",
       "      <td>...</td>\n",
       "      <td>0</td>\n",
       "      <td>0</td>\n",
       "      <td>0</td>\n",
       "      <td>0</td>\n",
       "      <td>0</td>\n",
       "      <td>0</td>\n",
       "      <td>0</td>\n",
       "      <td>0</td>\n",
       "      <td>0.0</td>\n",
       "      <td>0.000000</td>\n",
       "    </tr>\n",
       "  </tbody>\n",
       "</table>\n",
       "<p>117 rows × 28 columns</p>\n",
       "</div>"
      ],
      "text/plain": [
       "     episode_number  pitch_number           brand_name  \\\n",
       "0                 1             1  BluePine Industries   \n",
       "1                 1             2        Booz scooters   \n",
       "2                 1             3  Heart up my Sleeves   \n",
       "3                 2             4           Tagz Foods   \n",
       "4                 2             5       Head and Heart   \n",
       "..              ...           ...                  ...   \n",
       "112              34           113        Green Protein   \n",
       "113              34           114              On2Cook   \n",
       "114              35           115        Jain Shikanji   \n",
       "115              35           116                Woloo   \n",
       "116              35           117         Elcare India   \n",
       "\n",
       "                                              idea  deal  pitcher_ask_amount  \\\n",
       "0                                     Frozen Momos     1                50.0   \n",
       "1    Renting e-bike for mobility in private spaces     1                40.0   \n",
       "2                               Detachable Sleeves     1                25.0   \n",
       "3                             Healthy Potato Chips     1                70.0   \n",
       "4                         Brain Development Course     0                50.0   \n",
       "..                                             ...   ...                 ...   \n",
       "112                            Plant-Based Protein     0                60.0   \n",
       "113                         Fastest Cooking Device     0               100.0   \n",
       "114                                       Lemonade     1                40.0   \n",
       "115                                Washroom Finder     0                50.0   \n",
       "116                           Carenting for Elders     0               100.0   \n",
       "\n",
       "     ask_equity  ask_valuation  deal_amount  deal_equity  ...  ashneer_deal  \\\n",
       "0           5.0        1000.00         75.0        16.00  ...             1   \n",
       "1          15.0         266.67         40.0        50.00  ...             1   \n",
       "2          10.0         250.00         25.0        30.00  ...             0   \n",
       "3           1.0        7000.00         70.0         2.75  ...             1   \n",
       "4           5.0        1000.00          0.0         0.00  ...             0   \n",
       "..          ...            ...          ...          ...  ...           ...   \n",
       "112         2.0        3000.00          0.0         0.00  ...             0   \n",
       "113         1.0       10000.00          0.0         0.00  ...             0   \n",
       "114         8.0         500.00         40.0        30.00  ...             1   \n",
       "115         4.0        1250.00          0.0         0.00  ...             0   \n",
       "116         2.5        4000.00          0.0         0.00  ...             0   \n",
       "\n",
       "     anupam_deal  aman_deal  namita_deal  vineeta_deal  peyush_deal  \\\n",
       "0              0          1            0             1            0   \n",
       "1              0          0            0             1            0   \n",
       "2              1          0            0             1            0   \n",
       "3              0          0            0             0            0   \n",
       "4              0          0            0             0            0   \n",
       "..           ...        ...          ...           ...          ...   \n",
       "112            0          0            0             0            0   \n",
       "113            0          0            0             0            0   \n",
       "114            1          1            0             1            0   \n",
       "115            0          0            0             0            0   \n",
       "116            0          0            0             0            0   \n",
       "\n",
       "     ghazal_deal  total_sharks_invested  amount_per_shark  equity_per_shark  \n",
       "0              0                      3              25.0          5.333333  \n",
       "1              0                      2              20.0         25.000000  \n",
       "2              0                      2              12.5         15.000000  \n",
       "3              0                      1              70.0          2.750000  \n",
       "4              0                      0               0.0          0.000000  \n",
       "..           ...                    ...               ...               ...  \n",
       "112            0                      0               0.0          0.000000  \n",
       "113            0                      0               0.0          0.000000  \n",
       "114            0                      4              10.0          7.500000  \n",
       "115            0                      0               0.0          0.000000  \n",
       "116            0                      0               0.0          0.000000  \n",
       "\n",
       "[117 rows x 28 columns]"
      ]
     },
     "execution_count": 5,
     "metadata": {},
     "output_type": "execute_result"
    }
   ],
   "source": [
    "ST"
   ]
  },
  {
   "cell_type": "markdown",
   "id": "21ad6de4",
   "metadata": {},
   "source": [
    "# Q1. Find the number of episodes?"
   ]
  },
  {
   "cell_type": "code",
   "execution_count": 6,
   "id": "335486c1",
   "metadata": {},
   "outputs": [
    {
     "name": "stdout",
     "output_type": "stream",
     "text": [
      "35 episode\n",
      "\n"
     ]
    }
   ],
   "source": [
    "print (ST[\"episode_number\"].max(),\"episode\\n\")"
   ]
  },
  {
   "cell_type": "markdown",
   "id": "e6645cea",
   "metadata": {},
   "source": [
    "# Q2. Max, min , mean of asked amount,asked equity, asked valuation? "
   ]
  },
  {
   "cell_type": "code",
   "execution_count": 7,
   "id": "c07ea2cc",
   "metadata": {},
   "outputs": [
    {
     "name": "stdout",
     "output_type": "stream",
     "text": [
      "0.25\n",
      "25.0\n",
      "5.188034188034188\n"
     ]
    }
   ],
   "source": [
    "print(ST[\"ask_equity\"].min())\n",
    "print(ST[\"ask_equity\"].max())\n",
    "print(ST[\"ask_equity\"].mean())"
   ]
  },
  {
   "cell_type": "code",
   "execution_count": 8,
   "id": "78e1252e",
   "metadata": {},
   "outputs": [
    {
     "name": "stdout",
     "output_type": "stream",
     "text": [
      "0.00101\n",
      "30000.0\n",
      "319.8547094871795\n"
     ]
    }
   ],
   "source": [
    "print(ST[\"pitcher_ask_amount\"].min())\n",
    "print(ST[\"pitcher_ask_amount\"].max())\n",
    "print(ST[\"pitcher_ask_amount\"].mean())"
   ]
  },
  {
   "cell_type": "code",
   "execution_count": 9,
   "id": "08fd8778",
   "metadata": {},
   "outputs": [
    {
     "name": "stdout",
     "output_type": "stream",
     "text": [
      "0.01\n",
      "120000.0\n",
      "3852.4624786324785\n"
     ]
    }
   ],
   "source": [
    "print(ST[\"ask_valuation\"].min())\n",
    "print(ST[\"ask_valuation\"].max())\n",
    "print(ST[\"ask_valuation\"].mean())"
   ]
  },
  {
   "cell_type": "markdown",
   "id": "dbe3274f",
   "metadata": {},
   "source": [
    "# Q3. Max & Min asked- equity,asked-valuation and asked amount episode-wise? "
   ]
  },
  {
   "cell_type": "code",
   "execution_count": 10,
   "id": "0cb225a5",
   "metadata": {},
   "outputs": [
    {
     "name": "stdout",
     "output_type": "stream",
     "text": [
      "               pitcher_ask_amount          \n",
      "                              max       min\n",
      "episode_number                             \n",
      "1                            50.0  25.00000\n",
      "2                            70.0  50.00000\n",
      "3                           100.0  50.00000\n",
      "4                            75.0  50.00000\n",
      "5                           100.0  10.00000\n",
      "6                           100.0  45.00000\n",
      "7                           100.0  50.00000\n",
      "8                            56.0  30.00000\n",
      "9                           100.0  50.00000\n",
      "10                           30.0  25.00000\n",
      "11                        30000.0  30.00000\n",
      "12                           75.0  40.00000\n",
      "13                           50.0  30.00000\n",
      "14                          100.0  45.00000\n",
      "15                           50.0   5.00000\n",
      "16                           80.0  45.00000\n",
      "17                          150.0  50.00000\n",
      "18                          100.0  50.00000\n",
      "19                          125.0  15.00000\n",
      "20                           65.0  35.00000\n",
      "21                          100.0  35.00000\n",
      "22                           80.0  50.00000\n",
      "23                          100.0  30.00000\n",
      "24                           40.0  20.00000\n",
      "25                          150.0  50.00000\n",
      "26                           65.0  50.00000\n",
      "27                          100.0   0.00101\n",
      "28                           90.0  50.00000\n",
      "29                          100.0  75.00000\n",
      "30                          300.0  50.00000\n",
      "31                           75.0  50.00000\n",
      "32                          200.0  35.00000\n",
      "33                           40.0  35.00000\n",
      "34                          100.0  30.00000\n",
      "35                          100.0  40.00000\n"
     ]
    }
   ],
   "source": [
    "group_data= ST.groupby(\"episode_number\").agg({'pitcher_ask_amount':['max','min']})\n",
    "print (group_data)"
   ]
  },
  {
   "cell_type": "code",
   "execution_count": 11,
   "id": "1d82fb2c",
   "metadata": {},
   "outputs": [
    {
     "name": "stdout",
     "output_type": "stream",
     "text": [
      "               ask_equity      \n",
      "                      max   min\n",
      "episode_number                 \n",
      "1                    15.0  5.00\n",
      "2                     5.0  1.00\n",
      "3                     4.0  0.25\n",
      "4                    10.0  4.00\n",
      "5                    20.0  1.00\n",
      "6                    10.0  1.00\n",
      "7                     7.5  1.00\n",
      "8                     7.5  2.50\n",
      "9                     5.0  2.50\n",
      "10                    5.0  2.00\n",
      "11                   25.0  5.00\n",
      "12                    5.0  3.00\n",
      "13                   10.0  2.00\n",
      "14                    5.0  3.00\n",
      "15                    5.0  3.00\n",
      "16                    7.0  2.00\n",
      "17                   10.0  3.00\n",
      "18                    4.0  1.00\n",
      "19                    8.0  1.25\n",
      "20                    5.0  2.00\n",
      "21                   10.0  5.00\n",
      "22                    5.0  2.00\n",
      "23                    5.0  1.00\n",
      "24                   10.0  8.00\n",
      "25                    4.0  2.00\n",
      "26                   10.0  1.00\n",
      "27                   10.0  1.00\n",
      "28                    5.0  4.00\n",
      "29                    5.0  3.00\n",
      "30                   15.0  1.00\n",
      "31                   10.0  2.00\n",
      "32                    7.0  1.00\n",
      "33                   10.0  1.00\n",
      "34                   10.0  1.00\n",
      "35                    8.0  2.50\n"
     ]
    }
   ],
   "source": [
    "group_data= ST.groupby(\"episode_number\").agg({'ask_equity':['max','min']})\n",
    "print (group_data)"
   ]
  },
  {
   "cell_type": "code",
   "execution_count": 12,
   "id": "4b7af8fb",
   "metadata": {},
   "outputs": [
    {
     "name": "stdout",
     "output_type": "stream",
     "text": [
      "               ask_valuation         \n",
      "                         max      min\n",
      "episode_number                       \n",
      "1                    1000.00   250.00\n",
      "2                    7000.00  1000.00\n",
      "3                   40000.00  1875.00\n",
      "4                    1875.00   500.00\n",
      "5                   10000.00    50.00\n",
      "6                   10000.00   500.00\n",
      "7                    7500.00   666.67\n",
      "8                    2000.00   746.67\n",
      "9                    2000.00  1000.00\n",
      "10                   1500.00   500.00\n",
      "11                 120000.00   300.00\n",
      "12                   1875.00   800.00\n",
      "13                   2500.00   500.00\n",
      "14                   3333.33   900.00\n",
      "15                   1250.00   100.00\n",
      "16                   2250.00  1071.43\n",
      "17                   5000.00   500.00\n",
      "18                  10000.00  1250.00\n",
      "19                  10000.00   300.00\n",
      "20                   3250.00   700.00\n",
      "21                   1250.00   470.00\n",
      "22                   3000.00  1500.00\n",
      "23                  10000.00   600.00\n",
      "24                    500.00   200.00\n",
      "25                   7500.00  1250.00\n",
      "26                   6500.00   500.00\n",
      "27                  10000.00     0.01\n",
      "28                   1875.00  1000.00\n",
      "29                   2857.14  1500.00\n",
      "30                  30000.00   500.00\n",
      "31                   3750.00   500.00\n",
      "32                   5000.00   583.33\n",
      "33                   3500.00   400.00\n",
      "34                  10000.00   400.00\n",
      "35                   4000.00   500.00\n"
     ]
    }
   ],
   "source": [
    "group_data= ST.groupby(\"episode_number\").agg({'ask_valuation':['max','min']})\n",
    "print (group_data)"
   ]
  },
  {
   "cell_type": "markdown",
   "id": "67c79bd8",
   "metadata": {},
   "source": [
    "# Q4. Brand names in which 2 ,3 or 4 sharks are invested?# "
   ]
  },
  {
   "cell_type": "code",
   "execution_count": 13,
   "id": "5d223fc3",
   "metadata": {},
   "outputs": [
    {
     "data": {
      "text/plain": [
       "0                 BluePine Industries\n",
       "1                       Booz scooters\n",
       "2                 Heart up my Sleeves\n",
       "9                               Cosiq\n",
       "11                             Bummer\n",
       "12                        Revamp Moto\n",
       "18                 Raising Superstars\n",
       "21                       Beyond Snack\n",
       "22     Vivalyf Innovations- Easy Life\n",
       "24                              Altor\n",
       "25                              Ariro\n",
       "27                            Nuutjob\n",
       "28                           Meatyour\n",
       "29                          EventBeep\n",
       "32                              Farda\n",
       "35                               LOKA\n",
       "36                              Annie\n",
       "37                          Caragreen\n",
       "38                    The Yarn Bazaar\n",
       "39                  The Renal Project\n",
       "44                            Cocofit\n",
       "45                       Bamboo India\n",
       "47                       Beyond Water\n",
       "48                          Let's Try\n",
       "50                      Aas Vidyalaya\n",
       "58                            WeSTOCK\n",
       "64                         Get a Whey\n",
       "66                    The Quirky Nari\n",
       "67                     Hair Originals\n",
       "75                       The Sass Bar\n",
       "85                 Watt Technovations\n",
       "88                           Humpy A2\n",
       "90           Gold Safe Solutions Ind.\n",
       "91                        Wakao Foods\n",
       "95                       Kabaddi Adda\n",
       "108                        Tweek Labs\n",
       "109                            Proxgy\n",
       "110                Nomad Food Project\n",
       "114                     Jain Shikanji\n",
       "Name: brand_name, dtype: object"
      ]
     },
     "execution_count": 13,
     "metadata": {},
     "output_type": "execute_result"
    }
   ],
   "source": [
    "s = ((ST['total_sharks_invested'] == 2) | (ST['total_sharks_invested'] == 3) | (ST['total_sharks_invested'] == 4))\n",
    "#print()\n",
    "ST.loc[s,'brand_name']"
   ]
  },
  {
   "cell_type": "markdown",
   "id": "cf5e4278",
   "metadata": {},
   "source": [
    "# Q5. Episode wise minimum and maximum of sharks invested?"
   ]
  },
  {
   "cell_type": "code",
   "execution_count": 14,
   "id": "336cd132",
   "metadata": {},
   "outputs": [
    {
     "name": "stdout",
     "output_type": "stream",
     "text": [
      "episode_number\n",
      "1     2\n",
      "2     0\n",
      "3     0\n",
      "4     0\n",
      "5     0\n",
      "6     0\n",
      "7     0\n",
      "8     1\n",
      "9     0\n",
      "10    3\n",
      "11    0\n",
      "12    0\n",
      "13    2\n",
      "14    0\n",
      "15    1\n",
      "16    0\n",
      "17    0\n",
      "18    0\n",
      "19    0\n",
      "20    0\n",
      "21    1\n",
      "22    0\n",
      "23    0\n",
      "24    0\n",
      "25    0\n",
      "26    0\n",
      "27    0\n",
      "28    0\n",
      "29    0\n",
      "30    0\n",
      "31    0\n",
      "32    0\n",
      "33    0\n",
      "34    0\n",
      "35    0\n",
      "Name: total_sharks_invested, dtype: int64\n"
     ]
    }
   ],
   "source": [
    "print (ST.groupby([\"episode_number\"])[\"total_sharks_invested\"].min())"
   ]
  },
  {
   "cell_type": "code",
   "execution_count": 15,
   "id": "b1b4c05f",
   "metadata": {},
   "outputs": [
    {
     "name": "stdout",
     "output_type": "stream",
     "text": [
      "episode_number\n",
      "1     3\n",
      "2     1\n",
      "3     1\n",
      "4     2\n",
      "5     2\n",
      "6     5\n",
      "7     2\n",
      "8     2\n",
      "9     2\n",
      "10    3\n",
      "11    2\n",
      "12    3\n",
      "13    4\n",
      "14    2\n",
      "15    3\n",
      "16    2\n",
      "17    5\n",
      "18    1\n",
      "19    4\n",
      "20    5\n",
      "21    3\n",
      "22    3\n",
      "23    1\n",
      "24    2\n",
      "25    5\n",
      "26    1\n",
      "27    4\n",
      "28    3\n",
      "29    3\n",
      "30    2\n",
      "31    1\n",
      "32    1\n",
      "33    3\n",
      "34    4\n",
      "35    4\n",
      "Name: total_sharks_invested, dtype: int64\n"
     ]
    }
   ],
   "source": [
    "print (ST.groupby([\"episode_number\"])[\"total_sharks_invested\"].max())"
   ]
  },
  {
   "cell_type": "markdown",
   "id": "da3a983f",
   "metadata": {},
   "source": [
    "# Q6. Minimum and Maximum sharks invested in each brand?"
   ]
  },
  {
   "cell_type": "code",
   "execution_count": 16,
   "id": "f74eef88",
   "metadata": {},
   "outputs": [
    {
     "name": "stdout",
     "output_type": "stream",
     "text": [
      "brand_name\n",
      "ARRCOAT Surface Textures          1\n",
      "Aas Vidyalaya                     3\n",
      "Agro tourism                      0\n",
      "Aliste Technologies               0\n",
      "Alpino                            0\n",
      "                                 ..\n",
      "Vivalyf Innovations- Easy Life    2\n",
      "Wakao Foods                       3\n",
      "Watt Technovations                4\n",
      "WeSTOCK                           4\n",
      "Woloo                             0\n",
      "Name: total_sharks_invested, Length: 117, dtype: int64\n"
     ]
    }
   ],
   "source": [
    "print (ST.groupby([\"brand_name\"])[\"total_sharks_invested\"].min())"
   ]
  },
  {
   "cell_type": "code",
   "execution_count": 17,
   "id": "e2ef10ee",
   "metadata": {},
   "outputs": [
    {
     "name": "stdout",
     "output_type": "stream",
     "text": [
      "brand_name\n",
      "ARRCOAT Surface Textures          1\n",
      "Aas Vidyalaya                     3\n",
      "Agro tourism                      0\n",
      "Aliste Technologies               0\n",
      "Alpino                            0\n",
      "                                 ..\n",
      "Vivalyf Innovations- Easy Life    2\n",
      "Wakao Foods                       3\n",
      "Watt Technovations                4\n",
      "WeSTOCK                           4\n",
      "Woloo                             0\n",
      "Name: total_sharks_invested, Length: 117, dtype: int64\n"
     ]
    }
   ],
   "source": [
    "print (ST.groupby([\"brand_name\"])[\"total_sharks_invested\"].max())"
   ]
  },
  {
   "cell_type": "markdown",
   "id": "6558441f",
   "metadata": {},
   "source": [
    "# Q7. Brand names who ask for 1 crore and got a deal?"
   ]
  },
  {
   "cell_type": "code",
   "execution_count": 18,
   "id": "1c8ac4aa",
   "metadata": {},
   "outputs": [
    {
     "name": "stdout",
     "output_type": "stream",
     "text": [
      "Revamp Moto\n",
      "The Renal Project\n",
      "Otua\n",
      "Get a Whey\n",
      "Namhya Foods\n",
      "Sunfox Technologies\n",
      "Insurance Samadhan\n"
     ]
    }
   ],
   "source": [
    "brand_ask_1cr_deal_done = ST[(ST['pitcher_ask_amount']==100) & (ST['deal'])]['brand_name'].tolist()\n",
    "for i in brand_ask_1cr_deal_done:\n",
    "  print(i)"
   ]
  },
  {
   "cell_type": "markdown",
   "id": "4a62f1fb",
   "metadata": {},
   "source": [
    "# Q8. Brand names where deal equity is between 0 to 50?"
   ]
  },
  {
   "cell_type": "code",
   "execution_count": 19,
   "id": "eeb71d5d",
   "metadata": {},
   "outputs": [
    {
     "name": "stdout",
     "output_type": "stream",
     "text": [
      "BluePine Industries\n",
      "Booz scooters\n",
      "Heart up my Sleeves\n",
      "Tagz Foods\n",
      "Head and Heart\n",
      "Agro tourism\n",
      "Qzense Labs\n",
      "Peeschute\n",
      "NOCD\n",
      "Cosiq\n",
      "JhaJi Achaar\n",
      "Bummer\n",
      "Revamp Moto\n",
      "Hungry Heads\n",
      "Shrawani Engineers\n",
      "Skippi Pops\n",
      "Menstrupedia\n",
      "Hecolll\n",
      "Raising Superstars\n",
      "Torch-it\n",
      "La Kheer Deli\n",
      "Beyond Snack\n",
      "Vivalyf Innovations- Easy Life\n",
      "Motion Breeze\n",
      "Altor\n",
      "Ariro\n",
      "Kabira Handmade\n",
      "Nuutjob\n",
      "Meatyour\n",
      "EventBeep\n",
      "Gopal's 56\n",
      "ARRCOAT Surface Textures\n",
      "Farda\n",
      "Auli Lifestyle\n",
      "SweeDesi\n",
      "LOKA\n",
      "Annie\n",
      "Caragreen\n",
      "The Yarn Bazaar\n",
      "The Renal Project\n",
      "Morikko Pure Foods\n",
      "Good Good Piggy Bank\n",
      "Hammer Lifestyle\n",
      "PNT\n",
      "Cocofit\n",
      "Bamboo India\n",
      "Flying Furr\n",
      "Beyond Water\n",
      "Let's Try\n",
      "Find Your Kicks India\n",
      "Aas Vidyalaya\n",
      "Outbox\n",
      "RoadBounce\n",
      "Mommy's Kitchen\n",
      "India Hemp and Co\n",
      "Otua\n",
      "Anthyesti\n",
      "Ethik\n",
      "WeSTOCK\n",
      "KetoIndia\n",
      "Magic lock\n",
      "The State Plate\n",
      "Bakarmax\n",
      "IN A CAN\n",
      "Get a Whey\n",
      "The Quirky Nari\n",
      "Hair Originals\n",
      "Poo de Cologne\n",
      "Moonshine Meads\n",
      "Falhari\n",
      "Namhya Foods\n",
      "Urban Monkey\n",
      "Guardian Gears\n",
      "Modern Myth\n",
      "The Sass Bar\n",
      "KG Agrotech\n",
      "Nuskha Kitchen\n",
      "PawsIndia\n",
      "Sunfox Technologies\n",
      "Alpino\n",
      "Isak Fragrances\n",
      "Julaa Automation\n",
      "Rare Planet\n",
      "Theka Coffee\n",
      "Watt Technovations\n",
      "Aliste Technologies\n",
      "Insurance Samadhan\n",
      "Humpy A2\n",
      "Kunafa World\n",
      "Gold Safe Solutions Ind.\n",
      "Wakao Foods\n",
      "PDD Falcon\n",
      "PlayBox TV\n",
      "Sippline Drinking Shields\n",
      "Kabaddi Adda\n",
      "Shades of Spring\n",
      "Scholify\n",
      "Scrapshala\n",
      "Sabjikothi\n",
      "AyuRythm\n",
      "Astrix\n",
      "Thea and Sid\n",
      "Experential Etc\n",
      "GrowFitter\n",
      "Med Tech\n",
      "Colour Me Mad\n",
      "Mavi's\n",
      "Tweek Labs\n",
      "Proxgy\n",
      "Nomad Food Project\n",
      "Twee in One\n",
      "Green Protein\n",
      "On2Cook\n",
      "Jain Shikanji\n",
      "Woloo\n",
      "Elcare India\n"
     ]
    }
   ],
   "source": [
    "brands = ST[(ST['deal_equity']>=0) & (ST['deal_equity']<=50)]['brand_name'].tolist()\n",
    "for brand in brands:\n",
    "  print(brand)"
   ]
  },
  {
   "cell_type": "markdown",
   "id": "7433b646",
   "metadata": {},
   "source": [
    "# Q9. Find the number of brands participated in each episode?"
   ]
  },
  {
   "cell_type": "code",
   "execution_count": 20,
   "id": "f2ce6b4c",
   "metadata": {},
   "outputs": [
    {
     "name": "stdout",
     "output_type": "stream",
     "text": [
      "episode_number\n",
      "1     3\n",
      "2     3\n",
      "3     3\n",
      "4     3\n",
      "5     3\n",
      "6     3\n",
      "7     3\n",
      "8     3\n",
      "9     3\n",
      "10    3\n",
      "11    3\n",
      "12    3\n",
      "13    3\n",
      "14    3\n",
      "15    3\n",
      "16    4\n",
      "17    4\n",
      "18    4\n",
      "19    4\n",
      "20    3\n",
      "21    3\n",
      "22    4\n",
      "23    4\n",
      "24    3\n",
      "25    3\n",
      "26    3\n",
      "27    4\n",
      "28    3\n",
      "29    3\n",
      "30    4\n",
      "31    4\n",
      "32    4\n",
      "33    4\n",
      "34    4\n",
      "35    3\n",
      "Name: brand_name, dtype: int64\n"
     ]
    }
   ],
   "source": [
    "b = ST.groupby('episode_number')['brand_name'].nunique()\n",
    "print(b)"
   ]
  },
  {
   "cell_type": "markdown",
   "id": "ab261337",
   "metadata": {},
   "source": [
    "# Q10. How many sharks participated in this show and What were their names?"
   ]
  },
  {
   "cell_type": "code",
   "execution_count": 21,
   "id": "355f25b0",
   "metadata": {},
   "outputs": [
    {
     "name": "stdout",
     "output_type": "stream",
     "text": [
      "ashneer\n",
      "anupam\n",
      "aman\n",
      "namita\n",
      "vineeta\n",
      "peyush\n",
      "ghazal\n",
      "7\n"
     ]
    }
   ],
   "source": [
    "count = 0\n",
    "for col in ST.columns:\n",
    "  if '_present' in col:\n",
    "    count += 1\n",
    "    print(col.replace('_present',''))\n",
    "print(count)"
   ]
  },
  {
   "cell_type": "markdown",
   "id": "ee52d788",
   "metadata": {},
   "source": [
    "# Q11. Find appearance of each sharks?"
   ]
  },
  {
   "cell_type": "code",
   "execution_count": 25,
   "id": "fd7f2543",
   "metadata": {},
   "outputs": [
    {
     "data": {
      "text/plain": [
       "26"
      ]
     },
     "execution_count": 25,
     "metadata": {},
     "output_type": "execute_result"
    }
   ],
   "source": [
    "ST['ghazal_present'].sum()\n"
   ]
  },
  {
   "cell_type": "code",
   "execution_count": 26,
   "id": "1feeab8a",
   "metadata": {},
   "outputs": [
    {
     "data": {
      "text/plain": [
       "98"
      ]
     },
     "execution_count": 26,
     "metadata": {},
     "output_type": "execute_result"
    }
   ],
   "source": [
    "ST['aman_present'].sum()"
   ]
  },
  {
   "cell_type": "code",
   "execution_count": 27,
   "id": "edd97dad",
   "metadata": {},
   "outputs": [
    {
     "data": {
      "text/plain": [
       "98"
      ]
     },
     "execution_count": 27,
     "metadata": {},
     "output_type": "execute_result"
    }
   ],
   "source": [
    "ST['ashneer_present'].sum()"
   ]
  },
  {
   "cell_type": "code",
   "execution_count": 28,
   "id": "ca5a2d6c",
   "metadata": {},
   "outputs": [
    {
     "data": {
      "text/plain": [
       "106"
      ]
     },
     "execution_count": 28,
     "metadata": {},
     "output_type": "execute_result"
    }
   ],
   "source": [
    "ST['namita_present'].sum()"
   ]
  },
  {
   "cell_type": "code",
   "execution_count": 29,
   "id": "debabdc8",
   "metadata": {},
   "outputs": [
    {
     "data": {
      "text/plain": [
       "117"
      ]
     },
     "execution_count": 29,
     "metadata": {},
     "output_type": "execute_result"
    }
   ],
   "source": [
    "ST['anupam_present'].sum()"
   ]
  },
  {
   "cell_type": "code",
   "execution_count": 30,
   "id": "32c66168",
   "metadata": {},
   "outputs": [
    {
     "data": {
      "text/plain": [
       "66"
      ]
     },
     "execution_count": 30,
     "metadata": {},
     "output_type": "execute_result"
    }
   ],
   "source": [
    "ST['vineeta_present'].sum()"
   ]
  },
  {
   "cell_type": "code",
   "execution_count": 31,
   "id": "6ad338cd",
   "metadata": {},
   "outputs": [
    {
     "data": {
      "text/plain": [
       "88"
      ]
     },
     "execution_count": 31,
     "metadata": {},
     "output_type": "execute_result"
    }
   ],
   "source": [
    "ST['peyush_present'].sum()"
   ]
  },
  {
   "cell_type": "markdown",
   "id": "37334f1c",
   "metadata": {},
   "source": [
    "# Q12. How many entrepreneurs were present?"
   ]
  },
  {
   "cell_type": "code",
   "execution_count": 32,
   "id": "7520c196",
   "metadata": {},
   "outputs": [
    {
     "name": "stdout",
     "output_type": "stream",
     "text": [
      "                               pitch_number\n",
      "                                      count\n",
      "brand_name                                 \n",
      "ARRCOAT Surface Textures                  1\n",
      "Aas Vidyalaya                             1\n",
      "Agro tourism                              1\n",
      "Aliste Technologies                       1\n",
      "Alpino                                    1\n",
      "...                                     ...\n",
      "Vivalyf Innovations- Easy Life            1\n",
      "Wakao Foods                               1\n",
      "Watt Technovations                        1\n",
      "WeSTOCK                                   1\n",
      "Woloo                                     1\n",
      "\n",
      "[117 rows x 1 columns]\n"
     ]
    }
   ],
   "source": [
    "entrepreneurs_present=ST.groupby('brand_name').agg({'pitch_number':['count']})\n",
    "print(entrepreneurs_present)"
   ]
  },
  {
   "cell_type": "markdown",
   "id": "b7c77d7e",
   "metadata": {},
   "source": [
    "# Q13. How many times each shark invested the deal?"
   ]
  },
  {
   "cell_type": "code",
   "execution_count": 42,
   "id": "7853a333",
   "metadata": {},
   "outputs": [
    {
     "name": "stdout",
     "output_type": "stream",
     "text": [
      "['BluePine Industries' 'Booz scooters' 'Heart up my Sleeves' 'Tagz Foods'\n",
      " 'Head and Heart' 'Agro tourism' 'Qzense Labs' 'Peeschute' 'NOCD' 'Cosiq'\n",
      " 'JhaJi Achaar' 'Bummer' 'Revamp Moto' 'Hungry Heads' 'Shrawani Engineers'\n",
      " 'Skippi Pops' 'Menstrupedia' 'Hecolll' 'Raising Superstars' 'Torch-it'\n",
      " 'La Kheer Deli' 'Beyond Snack' 'Vivalyf Innovations- Easy Life'\n",
      " 'Motion Breeze' 'Altor' 'Ariro' 'Kabira Handmade' 'Nuutjob' 'Meatyour'\n",
      " 'EventBeep' \"Gopal's 56\" 'ARRCOAT Surface Textures' 'Farda'\n",
      " 'Auli Lifestyle' 'SweeDesi' 'LOKA' 'Annie' 'Caragreen' 'The Yarn Bazaar'\n",
      " 'The Renal Project' 'Morikko Pure Foods' 'Good Good Piggy Bank'\n",
      " 'Hammer Lifestyle' 'PNT' 'Cocofit' 'Bamboo India' 'Flying Furr'\n",
      " 'Beyond Water' \"Let's Try\" 'Find Your Kicks India' 'Aas Vidyalaya'\n",
      " 'Outbox' 'RoadBounce' \"Mommy's Kitchen\" 'India Hemp and Co' 'Otua'\n",
      " 'Anthyesti' 'Ethik' 'WeSTOCK' 'KetoIndia' 'Magic lock' 'The State Plate'\n",
      " 'Bakarmax' 'IN A CAN' 'Get a Whey' 'Sid07 Designs' 'The Quirky Nari'\n",
      " 'Hair Originals' 'Poo de Cologne' 'Moonshine Meads' 'Falhari'\n",
      " 'Namhya Foods' 'Urban Monkey' 'Guardian Gears' 'Modern Myth'\n",
      " 'The Sass Bar' 'KG Agrotech' 'Nuskha Kitchen' 'PawsIndia'\n",
      " 'Sunfox Technologies' 'Alpino' 'Isak Fragrances' 'Julaa Automation'\n",
      " 'Rare Planet' 'Theka Coffee' 'Watt Technovations' 'Aliste Technologies'\n",
      " 'Insurance Samadhan' 'Humpy A2' 'Kunafa World' 'Gold Safe Solutions Ind.'\n",
      " 'Wakao Foods' 'PDD Falcon' 'PlayBox TV' 'Sippline Drinking Shields'\n",
      " 'Kabaddi Adda' 'Shades of Spring' 'Scholify' 'Scrapshala' 'Sabjikothi'\n",
      " 'AyuRythm' 'Astrix' 'Thea and Sid' 'Experential Etc' 'GrowFitter'\n",
      " 'Med Tech' 'Colour Me Mad' \"Mavi's\" 'Tweek Labs' 'Proxgy'\n",
      " 'Nomad Food Project' 'Twee in One' 'Green Protein' 'On2Cook'\n",
      " 'Jain Shikanji' 'Woloo' 'Elcare India']\n",
      "117\n"
     ]
    }
   ],
   "source": [
    "\n",
    "n=ST['brand_name'].unique()\n",
    "print(n)\n",
    "print(n.shape[0])"
   ]
  },
  {
   "cell_type": "markdown",
   "id": "480f1472",
   "metadata": {},
   "source": [
    "# Q14. Find the equity percent that each sharks gets?"
   ]
  },
  {
   "cell_type": "code",
   "execution_count": 43,
   "id": "2bc0423c",
   "metadata": {},
   "outputs": [
    {
     "name": "stdout",
     "output_type": "stream",
     "text": [
      "                brand_name  equity_per_shark\n",
      "0      BluePine Industries          5.333333\n",
      "7                Peeschute          6.000000\n",
      "11                  Bummer          3.750000\n",
      "12             Revamp Moto          0.750000\n",
      "15             Skippi Pops          3.000000\n",
      "18      Raising Superstars          2.000000\n",
      "21            Beyond Snack          1.250000\n",
      "24                   Altor          3.500000\n",
      "25                   Ariro          5.000000\n",
      "27                 Nuutjob          6.666667\n",
      "28                Meatyour          6.666667\n",
      "29               EventBeep          1.000000\n",
      "32                   Farda         10.000000\n",
      "35                    LOKA          8.000000\n",
      "38         The Yarn Bazaar          2.500000\n",
      "39       The Renal Project          3.000000\n",
      "42        Hammer Lifestyle         40.000000\n",
      "44                 Cocofit          1.666667\n",
      "47            Beyond Water          7.500000\n",
      "48               Let's Try          6.000000\n",
      "49   Find Your Kicks India          5.000000\n",
      "58                 WeSTOCK          2.500000\n",
      "63                IN A CAN          2.000000\n",
      "64              Get a Whey          5.000000\n",
      "71            Namhya Foods         10.000000\n",
      "100               AyuRythm          2.680000\n",
      "104             GrowFitter          2.000000\n",
      "114          Jain Shikanji          7.500000\n"
     ]
    }
   ],
   "source": [
    "a = ST['aman_deal'] ==1\n",
    "b = ST.loc[a,['brand_name','equity_per_shark']]\n",
    "print(b)"
   ]
  },
  {
   "cell_type": "code",
   "execution_count": 44,
   "id": "a843accb",
   "metadata": {},
   "outputs": [
    {
     "name": "stdout",
     "output_type": "stream",
     "text": [
      "                   brand_name  equity_per_shark\n",
      "75               The Sass Bar              17.5\n",
      "79        Sunfox Technologies               1.2\n",
      "85         Watt Technovations               1.0\n",
      "88                   Humpy A2               5.0\n",
      "90   Gold Safe Solutions Ind.              10.0\n",
      "91                Wakao Foods               7.0\n",
      "110        Nomad Food Project               5.0\n"
     ]
    }
   ],
   "source": [
    "a = ST['ghazal_deal'] ==1\n",
    "b = ST.loc[a,['brand_name','equity_per_shark']]\n",
    "print(b)"
   ]
  },
  {
   "cell_type": "code",
   "execution_count": 45,
   "id": "f9e5ad2d",
   "metadata": {},
   "outputs": [
    {
     "name": "stdout",
     "output_type": "stream",
     "text": [
      "                brand_name  equity_per_shark\n",
      "0      BluePine Industries          5.333333\n",
      "1            Booz scooters         25.000000\n",
      "3               Tagz Foods          2.750000\n",
      "15             Skippi Pops          3.000000\n",
      "18      Raising Superstars          2.000000\n",
      "21            Beyond Snack          1.250000\n",
      "23           Motion Breeze          6.000000\n",
      "29               EventBeep          1.000000\n",
      "38         The Yarn Bazaar          2.500000\n",
      "45            Bamboo India          1.750000\n",
      "49   Find Your Kicks India          5.000000\n",
      "50           Aas Vidyalaya          5.000000\n",
      "55                    Otua          1.000000\n",
      "58                 WeSTOCK          2.500000\n",
      "63                IN A CAN          2.000000\n",
      "64              Get a Whey          5.000000\n",
      "67          Hair Originals          1.333333\n",
      "108             Tweek Labs          3.333333\n",
      "109                 Proxgy          5.000000\n",
      "110     Nomad Food Project          5.000000\n",
      "114          Jain Shikanji          7.500000\n"
     ]
    }
   ],
   "source": [
    "a = ST['ashneer_deal'] ==1\n",
    "b = ST.loc[a,['brand_name','equity_per_shark']]\n",
    "print(b)"
   ]
  },
  {
   "cell_type": "code",
   "execution_count": 46,
   "id": "300b3d6d",
   "metadata": {},
   "outputs": [
    {
     "name": "stdout",
     "output_type": "stream",
     "text": [
      "                brand_name  equity_per_shark\n",
      "11                  Bummer          3.750000\n",
      "15             Skippi Pops          3.000000\n",
      "16            Menstrupedia         20.000000\n",
      "24                   Altor          3.500000\n",
      "27                 Nuutjob          6.666667\n",
      "32                   Farda         10.000000\n",
      "33          Auli Lifestyle         15.000000\n",
      "36                   Annie          1.000000\n",
      "39       The Renal Project          3.000000\n",
      "44                 Cocofit          1.666667\n",
      "47            Beyond Water          7.500000\n",
      "49   Find Your Kicks India          5.000000\n",
      "50           Aas Vidyalaya          5.000000\n",
      "58                 WeSTOCK          2.500000\n",
      "63                IN A CAN          2.000000\n",
      "79     Sunfox Technologies          1.200000\n",
      "83             Rare Planet          3.000000\n",
      "85      Watt Technovations          1.000000\n",
      "91             Wakao Foods          7.000000\n",
      "95            Kabaddi Adda          3.000000\n",
      "106          Colour Me Mad         25.000000\n",
      "110     Nomad Food Project          5.000000\n"
     ]
    }
   ],
   "source": [
    "a = ST['namita_deal'] ==1\n",
    "b = ST.loc[a,['brand_name','equity_per_shark']]\n",
    "print(b)"
   ]
  },
  {
   "cell_type": "code",
   "execution_count": 47,
   "id": "c472a99d",
   "metadata": {},
   "outputs": [
    {
     "name": "stdout",
     "output_type": "stream",
     "text": [
      "                         brand_name  equity_per_shark\n",
      "2               Heart up my Sleeves         15.000000\n",
      "9                             Cosiq         12.500000\n",
      "12                      Revamp Moto          0.750000\n",
      "15                      Skippi Pops          3.000000\n",
      "22   Vivalyf Innovations- Easy Life         16.650000\n",
      "28                         Meatyour          6.666667\n",
      "31         ARRCOAT Surface Textures         15.000000\n",
      "35                             LOKA          8.000000\n",
      "36                            Annie          1.000000\n",
      "37                        Caragreen         10.000000\n",
      "38                  The Yarn Bazaar          2.500000\n",
      "44                          Cocofit          1.666667\n",
      "45                     Bamboo India          1.750000\n",
      "48                        Let's Try          6.000000\n",
      "49            Find Your Kicks India          5.000000\n",
      "63                         IN A CAN          2.000000\n",
      "66                  The Quirky Nari         12.000000\n",
      "67                   Hair Originals          1.333333\n",
      "75                     The Sass Bar         17.500000\n",
      "78                        PawsIndia         15.000000\n",
      "79              Sunfox Technologies          1.200000\n",
      "85               Watt Technovations          1.000000\n",
      "108                      Tweek Labs          3.333333\n",
      "114                   Jain Shikanji          7.500000\n"
     ]
    }
   ],
   "source": [
    "a = ST['anupam_deal'] ==1\n",
    "b = ST.loc[a,['brand_name','equity_per_shark']]\n",
    "print(b)"
   ]
  },
  {
   "cell_type": "code",
   "execution_count": 48,
   "id": "b0ec53ac",
   "metadata": {},
   "outputs": [
    {
     "name": "stdout",
     "output_type": "stream",
     "text": [
      "                   brand_name  equity_per_shark\n",
      "0         BluePine Industries          5.333333\n",
      "1               Booz scooters         25.000000\n",
      "2         Heart up my Sleeves         15.000000\n",
      "8                        NOCD         15.000000\n",
      "9                       Cosiq         12.500000\n",
      "15                Skippi Pops          3.000000\n",
      "64                 Get a Whey          5.000000\n",
      "66            The Quirky Nari         12.000000\n",
      "79        Sunfox Technologies          1.200000\n",
      "88                   Humpy A2          5.000000\n",
      "90   Gold Safe Solutions Ind.         10.000000\n",
      "91                Wakao Foods          7.000000\n",
      "95               Kabaddi Adda          3.000000\n",
      "110        Nomad Food Project          5.000000\n",
      "114             Jain Shikanji          7.500000\n"
     ]
    }
   ],
   "source": [
    "a = ST['vineeta_deal'] ==1\n",
    "b = ST.loc[a,['brand_name','equity_per_shark']]\n",
    "print(b)"
   ]
  },
  {
   "cell_type": "code",
   "execution_count": 49,
   "id": "f616ed1e",
   "metadata": {},
   "outputs": [
    {
     "name": "stdout",
     "output_type": "stream",
     "text": [
      "                         brand_name  equity_per_shark\n",
      "22   Vivalyf Innovations- Easy Life         16.650000\n",
      "25                            Ariro          5.000000\n",
      "27                          Nuutjob          6.666667\n",
      "28                         Meatyour          6.666667\n",
      "29                        EventBeep          1.000000\n",
      "35                             LOKA          8.000000\n",
      "36                            Annie          1.000000\n",
      "37                        Caragreen         10.000000\n",
      "38                  The Yarn Bazaar          2.500000\n",
      "43                              PNT         25.000000\n",
      "49            Find Your Kicks India          5.000000\n",
      "50                    Aas Vidyalaya          5.000000\n",
      "52                       RoadBounce         20.000000\n",
      "58                          WeSTOCK          2.500000\n",
      "61                  The State Plate          3.000000\n",
      "63                         IN A CAN          2.000000\n",
      "65                    Sid07 Designs         75.000000\n",
      "67                   Hair Originals          1.333333\n",
      "76                      KG Agrotech         40.000000\n",
      "79              Sunfox Technologies          1.200000\n",
      "81                  Isak Fragrances         50.000000\n",
      "85               Watt Technovations          1.000000\n",
      "87               Insurance Samadhan          4.000000\n",
      "88                         Humpy A2          5.000000\n",
      "90         Gold Safe Solutions Ind.         10.000000\n",
      "108                      Tweek Labs          3.333333\n",
      "109                          Proxgy          5.000000\n"
     ]
    }
   ],
   "source": [
    "a = ST['peyush_deal'] ==1\n",
    "b = ST.loc[a,['brand_name','equity_per_shark']]\n",
    "print(b)"
   ]
  },
  {
   "cell_type": "markdown",
   "id": "fd8bc525",
   "metadata": {},
   "source": [
    "# Q15. Find the total number of amount invested in this show?"
   ]
  },
  {
   "cell_type": "code",
   "execution_count": 50,
   "id": "1b7b4ed6",
   "metadata": {},
   "outputs": [
    {
     "name": "stdout",
     "output_type": "stream",
     "text": [
      "total amount invested:3742.001060079\n"
     ]
    }
   ],
   "source": [
    "ST['total_sharks_invested'] = ST['total_sharks_invested']*ST['amount_per_shark']\n",
    "total_investment = ST['total_sharks_invested'].sum()\n",
    "print(f'total amount invested:{total_investment}')"
   ]
  },
  {
   "cell_type": "code",
   "execution_count": null,
   "id": "8ee61ef8",
   "metadata": {},
   "outputs": [],
   "source": []
  },
  {
   "cell_type": "code",
   "execution_count": null,
   "id": "360aa4e4",
   "metadata": {},
   "outputs": [],
   "source": []
  }
 ],
 "metadata": {
  "kernelspec": {
   "display_name": "Python 3 (ipykernel)",
   "language": "python",
   "name": "python3"
  },
  "language_info": {
   "codemirror_mode": {
    "name": "ipython",
    "version": 3
   },
   "file_extension": ".py",
   "mimetype": "text/x-python",
   "name": "python",
   "nbconvert_exporter": "python",
   "pygments_lexer": "ipython3",
   "version": "3.9.13"
  }
 },
 "nbformat": 4,
 "nbformat_minor": 5
}
